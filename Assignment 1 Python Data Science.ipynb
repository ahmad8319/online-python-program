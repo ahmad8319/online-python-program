{
 "cells": [
  {
   "cell_type": "code",
   "execution_count": 3,
   "id": "0af7331c",
   "metadata": {},
   "outputs": [
    {
     "name": "stdout",
     "output_type": "stream",
     "text": [
      "Twinkle, twinkle, little star,\n",
      "         How I wonder what you are!\n",
      "                 Up above the world so high,\n",
      "                 Like a diamond in the sky.\n",
      "Twinkle, twinkle, little star,\n",
      "         How I wonder what you are\n"
     ]
    }
   ],
   "source": [
    "#program 1\n",
    "\n",
    "print(\"Twinkle, twinkle, little star,\");\n",
    "print(\"         How I wonder what you are!\");\n",
    "print(\"                 Up above the world so high,\");\n",
    "print(\"                 Like a diamond in the sky.\");\n",
    "print(\"Twinkle, twinkle, little star,\");\n",
    "print(\"         How I wonder what you are\");"
   ]
  },
  {
   "cell_type": "code",
   "execution_count": 4,
   "id": "8a69d19f",
   "metadata": {},
   "outputs": [
    {
     "name": "stdout",
     "output_type": "stream",
     "text": [
      "python version\n",
      "3.9.7 (default, Sep 16 2021, 16:59:28) [MSC v.1916 64 bit (AMD64)]\n",
      "version info\n",
      "sys.version_info(major=3, minor=9, micro=7, releaselevel='final', serial=0)\n"
     ]
    }
   ],
   "source": [
    "#program 2\n",
    "\n",
    "import sys\n",
    "print(\"python version\");\n",
    "print(sys.version);\n",
    "print(\"version info\");\n",
    "print(sys.version_info);"
   ]
  },
  {
   "cell_type": "code",
   "execution_count": 2,
   "id": "42f0d395",
   "metadata": {},
   "outputs": [
    {
     "name": "stdout",
     "output_type": "stream",
     "text": [
      "current date and time\n",
      "2022-01-02  00:36:34\n"
     ]
    }
   ],
   "source": [
    "#program 3\n",
    "\n",
    "import datetime\n",
    "now= datetime.datetime.now();\n",
    "print(\"current date and time\");\n",
    "print(now.strftime(\"%Y-%m-%d  %H:%M:%S\"))\n"
   ]
  },
  {
   "cell_type": "code",
   "execution_count": 1,
   "id": "6dc49d55",
   "metadata": {},
   "outputs": [
    {
     "name": "stdout",
     "output_type": "stream",
     "text": [
      "enter the radius of circle 3\n",
      "area of circle = 28.274333882308138\n"
     ]
    }
   ],
   "source": [
    "#program 4\n",
    "\n",
    "from math import pi\n",
    "radius=float(input(\"enter the radius of circle \"));\n",
    "area= str(pi*radius**2);\n",
    "print(\"area of circle = \" + area);"
   ]
  },
  {
   "cell_type": "code",
   "execution_count": 3,
   "id": "1110e57d",
   "metadata": {},
   "outputs": [
    {
     "name": "stdout",
     "output_type": "stream",
     "text": [
      "enter your first nameali\n",
      "enter your last nameahmad\n",
      "ahmad ali\n"
     ]
    }
   ],
   "source": [
    "#program 5\n",
    "\n",
    "firstName= input(\"enter your first name\");\n",
    "lastName= input(\"enter your last name\");\n",
    "print(lastName + \" \" + firstName);"
   ]
  },
  {
   "cell_type": "code",
   "execution_count": 4,
   "id": "d1de9a79",
   "metadata": {},
   "outputs": [
    {
     "name": "stdout",
     "output_type": "stream",
     "text": [
      "enter first number2\n",
      "enter second number4\n",
      "6\n"
     ]
    }
   ],
   "source": [
    "#program 6\n",
    "\n",
    "a= int(input(\"enter first number\"));\n",
    "b= int(input(\"enter second number\"));\n",
    "c= a+b;\n",
    "print(c);"
   ]
  },
  {
   "cell_type": "code",
   "execution_count": null,
   "id": "5bfb9246",
   "metadata": {},
   "outputs": [],
   "source": []
  }
 ],
 "metadata": {
  "kernelspec": {
   "display_name": "Python 3 (ipykernel)",
   "language": "python",
   "name": "python3"
  },
  "language_info": {
   "codemirror_mode": {
    "name": "ipython",
    "version": 3
   },
   "file_extension": ".py",
   "mimetype": "text/x-python",
   "name": "python",
   "nbconvert_exporter": "python",
   "pygments_lexer": "ipython3",
   "version": "3.9.7"
  }
 },
 "nbformat": 4,
 "nbformat_minor": 5
}
